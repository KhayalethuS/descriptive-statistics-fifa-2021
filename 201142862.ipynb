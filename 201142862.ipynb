{
 "cells": [
  {
   "cell_type": "markdown",
   "id": "77b66765-b4a5-4f93-871f-abadac15b708",
   "metadata": {},
   "source": [
    "FIFA 2021 TEAM\n",
    "\n",
    "Author: Khayalethu Sofohlo\n",
    "\n",
    "Date: 04 April 2023\n",
    "\n",
    "Source:https://www.kaggle.com/datasets/batuhandemirci/fifa-2021-team-and-player-dataset?select=tbl_player_specialities.csv\n",
    "\n",
    "Github url: https://github.com/KhayalethuS/descriptive-statistics-fifa-2021"
   ]
  },
  {
   "cell_type": "code",
   "execution_count": 2,
   "id": "14cdfc0d-3103-44ad-9dcf-fce729207051",
   "metadata": {},
   "outputs": [],
   "source": [
    "import numpy as np\n",
    "import pandas as pd"
   ]
  },
  {
   "cell_type": "code",
   "execution_count": 3,
   "id": "83065be0-88ff-410f-ae31-f56ff5e37ba6",
   "metadata": {},
   "outputs": [],
   "source": [
    "# Loading the file and setting low_memory to avoid error on columns not containing same data type\n",
    "data = pd.read_csv('players_22.csv',  low_memory=False)"
   ]
  },
  {
   "cell_type": "code",
   "execution_count": 4,
   "id": "49afa469-1589-444b-937c-41a5cc3fbc4a",
   "metadata": {},
   "outputs": [
    {
     "data": {
      "text/html": [
       "<div>\n",
       "<style scoped>\n",
       "    .dataframe tbody tr th:only-of-type {\n",
       "        vertical-align: middle;\n",
       "    }\n",
       "\n",
       "    .dataframe tbody tr th {\n",
       "        vertical-align: top;\n",
       "    }\n",
       "\n",
       "    .dataframe thead th {\n",
       "        text-align: right;\n",
       "    }\n",
       "</style>\n",
       "<table border=\"1\" class=\"dataframe\">\n",
       "  <thead>\n",
       "    <tr style=\"text-align: right;\">\n",
       "      <th></th>\n",
       "      <th>sofifa_id</th>\n",
       "      <th>player_url</th>\n",
       "      <th>short_name</th>\n",
       "      <th>long_name</th>\n",
       "      <th>player_positions</th>\n",
       "      <th>overall</th>\n",
       "      <th>potential</th>\n",
       "      <th>value_eur</th>\n",
       "      <th>wage_eur</th>\n",
       "      <th>age</th>\n",
       "      <th>...</th>\n",
       "      <th>lcb</th>\n",
       "      <th>cb</th>\n",
       "      <th>rcb</th>\n",
       "      <th>rb</th>\n",
       "      <th>gk</th>\n",
       "      <th>player_face_url</th>\n",
       "      <th>club_logo_url</th>\n",
       "      <th>club_flag_url</th>\n",
       "      <th>nation_logo_url</th>\n",
       "      <th>nation_flag_url</th>\n",
       "    </tr>\n",
       "  </thead>\n",
       "  <tbody>\n",
       "    <tr>\n",
       "      <th>0</th>\n",
       "      <td>158023</td>\n",
       "      <td>https://sofifa.com/player/158023/lionel-messi/...</td>\n",
       "      <td>L. Messi</td>\n",
       "      <td>Lionel Andrés Messi Cuccittini</td>\n",
       "      <td>RW, ST, CF</td>\n",
       "      <td>93</td>\n",
       "      <td>93</td>\n",
       "      <td>78000000.0</td>\n",
       "      <td>320000.0</td>\n",
       "      <td>34</td>\n",
       "      <td>...</td>\n",
       "      <td>50+3</td>\n",
       "      <td>50+3</td>\n",
       "      <td>50+3</td>\n",
       "      <td>61+3</td>\n",
       "      <td>19+3</td>\n",
       "      <td>https://cdn.sofifa.net/players/158/023/22_120.png</td>\n",
       "      <td>https://cdn.sofifa.net/teams/73/60.png</td>\n",
       "      <td>https://cdn.sofifa.net/flags/fr.png</td>\n",
       "      <td>https://cdn.sofifa.net/teams/1369/60.png</td>\n",
       "      <td>https://cdn.sofifa.net/flags/ar.png</td>\n",
       "    </tr>\n",
       "    <tr>\n",
       "      <th>1</th>\n",
       "      <td>188545</td>\n",
       "      <td>https://sofifa.com/player/188545/robert-lewand...</td>\n",
       "      <td>R. Lewandowski</td>\n",
       "      <td>Robert Lewandowski</td>\n",
       "      <td>ST</td>\n",
       "      <td>92</td>\n",
       "      <td>92</td>\n",
       "      <td>119500000.0</td>\n",
       "      <td>270000.0</td>\n",
       "      <td>32</td>\n",
       "      <td>...</td>\n",
       "      <td>60+3</td>\n",
       "      <td>60+3</td>\n",
       "      <td>60+3</td>\n",
       "      <td>61+3</td>\n",
       "      <td>19+3</td>\n",
       "      <td>https://cdn.sofifa.net/players/188/545/22_120.png</td>\n",
       "      <td>https://cdn.sofifa.net/teams/21/60.png</td>\n",
       "      <td>https://cdn.sofifa.net/flags/de.png</td>\n",
       "      <td>https://cdn.sofifa.net/teams/1353/60.png</td>\n",
       "      <td>https://cdn.sofifa.net/flags/pl.png</td>\n",
       "    </tr>\n",
       "    <tr>\n",
       "      <th>2</th>\n",
       "      <td>20801</td>\n",
       "      <td>https://sofifa.com/player/20801/c-ronaldo-dos-...</td>\n",
       "      <td>Cristiano Ronaldo</td>\n",
       "      <td>Cristiano Ronaldo dos Santos Aveiro</td>\n",
       "      <td>ST, LW</td>\n",
       "      <td>91</td>\n",
       "      <td>91</td>\n",
       "      <td>45000000.0</td>\n",
       "      <td>270000.0</td>\n",
       "      <td>36</td>\n",
       "      <td>...</td>\n",
       "      <td>53+3</td>\n",
       "      <td>53+3</td>\n",
       "      <td>53+3</td>\n",
       "      <td>60+3</td>\n",
       "      <td>20+3</td>\n",
       "      <td>https://cdn.sofifa.net/players/020/801/22_120.png</td>\n",
       "      <td>https://cdn.sofifa.net/teams/11/60.png</td>\n",
       "      <td>https://cdn.sofifa.net/flags/gb-eng.png</td>\n",
       "      <td>https://cdn.sofifa.net/teams/1354/60.png</td>\n",
       "      <td>https://cdn.sofifa.net/flags/pt.png</td>\n",
       "    </tr>\n",
       "    <tr>\n",
       "      <th>3</th>\n",
       "      <td>190871</td>\n",
       "      <td>https://sofifa.com/player/190871/neymar-da-sil...</td>\n",
       "      <td>Neymar Jr</td>\n",
       "      <td>Neymar da Silva Santos Júnior</td>\n",
       "      <td>LW, CAM</td>\n",
       "      <td>91</td>\n",
       "      <td>91</td>\n",
       "      <td>129000000.0</td>\n",
       "      <td>270000.0</td>\n",
       "      <td>29</td>\n",
       "      <td>...</td>\n",
       "      <td>50+3</td>\n",
       "      <td>50+3</td>\n",
       "      <td>50+3</td>\n",
       "      <td>62+3</td>\n",
       "      <td>20+3</td>\n",
       "      <td>https://cdn.sofifa.net/players/190/871/22_120.png</td>\n",
       "      <td>https://cdn.sofifa.net/teams/73/60.png</td>\n",
       "      <td>https://cdn.sofifa.net/flags/fr.png</td>\n",
       "      <td>NaN</td>\n",
       "      <td>https://cdn.sofifa.net/flags/br.png</td>\n",
       "    </tr>\n",
       "    <tr>\n",
       "      <th>4</th>\n",
       "      <td>192985</td>\n",
       "      <td>https://sofifa.com/player/192985/kevin-de-bruy...</td>\n",
       "      <td>K. De Bruyne</td>\n",
       "      <td>Kevin De Bruyne</td>\n",
       "      <td>CM, CAM</td>\n",
       "      <td>91</td>\n",
       "      <td>91</td>\n",
       "      <td>125500000.0</td>\n",
       "      <td>350000.0</td>\n",
       "      <td>30</td>\n",
       "      <td>...</td>\n",
       "      <td>69+3</td>\n",
       "      <td>69+3</td>\n",
       "      <td>69+3</td>\n",
       "      <td>75+3</td>\n",
       "      <td>21+3</td>\n",
       "      <td>https://cdn.sofifa.net/players/192/985/22_120.png</td>\n",
       "      <td>https://cdn.sofifa.net/teams/10/60.png</td>\n",
       "      <td>https://cdn.sofifa.net/flags/gb-eng.png</td>\n",
       "      <td>https://cdn.sofifa.net/teams/1325/60.png</td>\n",
       "      <td>https://cdn.sofifa.net/flags/be.png</td>\n",
       "    </tr>\n",
       "  </tbody>\n",
       "</table>\n",
       "<p>5 rows × 110 columns</p>\n",
       "</div>"
      ],
      "text/plain": [
       "   sofifa_id                                         player_url  \\\n",
       "0     158023  https://sofifa.com/player/158023/lionel-messi/...   \n",
       "1     188545  https://sofifa.com/player/188545/robert-lewand...   \n",
       "2      20801  https://sofifa.com/player/20801/c-ronaldo-dos-...   \n",
       "3     190871  https://sofifa.com/player/190871/neymar-da-sil...   \n",
       "4     192985  https://sofifa.com/player/192985/kevin-de-bruy...   \n",
       "\n",
       "          short_name                            long_name player_positions  \\\n",
       "0           L. Messi       Lionel Andrés Messi Cuccittini       RW, ST, CF   \n",
       "1     R. Lewandowski                   Robert Lewandowski               ST   \n",
       "2  Cristiano Ronaldo  Cristiano Ronaldo dos Santos Aveiro           ST, LW   \n",
       "3          Neymar Jr        Neymar da Silva Santos Júnior          LW, CAM   \n",
       "4       K. De Bruyne                      Kevin De Bruyne          CM, CAM   \n",
       "\n",
       "   overall  potential    value_eur  wage_eur  age  ...   lcb    cb   rcb  \\\n",
       "0       93         93   78000000.0  320000.0   34  ...  50+3  50+3  50+3   \n",
       "1       92         92  119500000.0  270000.0   32  ...  60+3  60+3  60+3   \n",
       "2       91         91   45000000.0  270000.0   36  ...  53+3  53+3  53+3   \n",
       "3       91         91  129000000.0  270000.0   29  ...  50+3  50+3  50+3   \n",
       "4       91         91  125500000.0  350000.0   30  ...  69+3  69+3  69+3   \n",
       "\n",
       "     rb    gk                                    player_face_url  \\\n",
       "0  61+3  19+3  https://cdn.sofifa.net/players/158/023/22_120.png   \n",
       "1  61+3  19+3  https://cdn.sofifa.net/players/188/545/22_120.png   \n",
       "2  60+3  20+3  https://cdn.sofifa.net/players/020/801/22_120.png   \n",
       "3  62+3  20+3  https://cdn.sofifa.net/players/190/871/22_120.png   \n",
       "4  75+3  21+3  https://cdn.sofifa.net/players/192/985/22_120.png   \n",
       "\n",
       "                            club_logo_url  \\\n",
       "0  https://cdn.sofifa.net/teams/73/60.png   \n",
       "1  https://cdn.sofifa.net/teams/21/60.png   \n",
       "2  https://cdn.sofifa.net/teams/11/60.png   \n",
       "3  https://cdn.sofifa.net/teams/73/60.png   \n",
       "4  https://cdn.sofifa.net/teams/10/60.png   \n",
       "\n",
       "                             club_flag_url  \\\n",
       "0      https://cdn.sofifa.net/flags/fr.png   \n",
       "1      https://cdn.sofifa.net/flags/de.png   \n",
       "2  https://cdn.sofifa.net/flags/gb-eng.png   \n",
       "3      https://cdn.sofifa.net/flags/fr.png   \n",
       "4  https://cdn.sofifa.net/flags/gb-eng.png   \n",
       "\n",
       "                            nation_logo_url  \\\n",
       "0  https://cdn.sofifa.net/teams/1369/60.png   \n",
       "1  https://cdn.sofifa.net/teams/1353/60.png   \n",
       "2  https://cdn.sofifa.net/teams/1354/60.png   \n",
       "3                                       NaN   \n",
       "4  https://cdn.sofifa.net/teams/1325/60.png   \n",
       "\n",
       "                       nation_flag_url  \n",
       "0  https://cdn.sofifa.net/flags/ar.png  \n",
       "1  https://cdn.sofifa.net/flags/pl.png  \n",
       "2  https://cdn.sofifa.net/flags/pt.png  \n",
       "3  https://cdn.sofifa.net/flags/br.png  \n",
       "4  https://cdn.sofifa.net/flags/be.png  \n",
       "\n",
       "[5 rows x 110 columns]"
      ]
     },
     "execution_count": 4,
     "metadata": {},
     "output_type": "execute_result"
    }
   ],
   "source": [
    "# To view the first five rows of your data\n",
    "# Returns maximum of 5 records\n",
    "data.head()"
   ]
  },
  {
   "cell_type": "code",
   "execution_count": 5,
   "id": "3dbf3549-bd11-4ff3-99c2-9a4882a5954f",
   "metadata": {},
   "outputs": [],
   "source": [
    "# Create new variable to store data frame for cleanup purposes\n",
    "df = pd.DataFrame(data)"
   ]
  },
  {
   "cell_type": "code",
   "execution_count": 6,
   "id": "69ffb331-f93d-4199-981b-d66a39264d44",
   "metadata": {},
   "outputs": [],
   "source": [
    "#Cleaning data and removing fields I don't require\n",
    "df = df.drop([\n",
    "    'lcb', 'cb', 'rcb', 'rb', 'gk', 'player_face_url', 'club_logo_url', 'nation_logo_url', 'nation_flag_url',\n",
    "    'player_url', 'long_name', 'cm', 'rcm', 'rm', 'lwb', 'ldm', 'cdm', 'rdm', 'rwb', 'lb', 'club_flag_url','lw',\n",
    "    'lf','cf','rf','rw','lam','cam','ram','lm','lcm', 'goalkeeping_speed','ls','st','rs'\n",
    "    ], axis=1)"
   ]
  },
  {
   "cell_type": "code",
   "execution_count": 7,
   "id": "24456ea0-5de5-4747-b659-9c5f1f7f3c6c",
   "metadata": {},
   "outputs": [
    {
     "data": {
      "text/html": [
       "<div>\n",
       "<style scoped>\n",
       "    .dataframe tbody tr th:only-of-type {\n",
       "        vertical-align: middle;\n",
       "    }\n",
       "\n",
       "    .dataframe tbody tr th {\n",
       "        vertical-align: top;\n",
       "    }\n",
       "\n",
       "    .dataframe thead th {\n",
       "        text-align: right;\n",
       "    }\n",
       "</style>\n",
       "<table border=\"1\" class=\"dataframe\">\n",
       "  <thead>\n",
       "    <tr style=\"text-align: right;\">\n",
       "      <th></th>\n",
       "      <th>sofifa_id</th>\n",
       "      <th>short_name</th>\n",
       "      <th>player_positions</th>\n",
       "      <th>overall</th>\n",
       "      <th>potential</th>\n",
       "      <th>value_eur</th>\n",
       "      <th>wage_eur</th>\n",
       "      <th>age</th>\n",
       "      <th>dob</th>\n",
       "      <th>height_cm</th>\n",
       "      <th>...</th>\n",
       "      <th>mentality_penalties</th>\n",
       "      <th>mentality_composure</th>\n",
       "      <th>defending_marking_awareness</th>\n",
       "      <th>defending_standing_tackle</th>\n",
       "      <th>defending_sliding_tackle</th>\n",
       "      <th>goalkeeping_diving</th>\n",
       "      <th>goalkeeping_handling</th>\n",
       "      <th>goalkeeping_kicking</th>\n",
       "      <th>goalkeeping_positioning</th>\n",
       "      <th>goalkeeping_reflexes</th>\n",
       "    </tr>\n",
       "  </thead>\n",
       "  <tbody>\n",
       "    <tr>\n",
       "      <th>0</th>\n",
       "      <td>158023</td>\n",
       "      <td>L. Messi</td>\n",
       "      <td>RW, ST, CF</td>\n",
       "      <td>93</td>\n",
       "      <td>93</td>\n",
       "      <td>78000000.0</td>\n",
       "      <td>320000.0</td>\n",
       "      <td>34</td>\n",
       "      <td>1987-06-24</td>\n",
       "      <td>170</td>\n",
       "      <td>...</td>\n",
       "      <td>75</td>\n",
       "      <td>96</td>\n",
       "      <td>20</td>\n",
       "      <td>35</td>\n",
       "      <td>24</td>\n",
       "      <td>6</td>\n",
       "      <td>11</td>\n",
       "      <td>15</td>\n",
       "      <td>14</td>\n",
       "      <td>8</td>\n",
       "    </tr>\n",
       "    <tr>\n",
       "      <th>1</th>\n",
       "      <td>188545</td>\n",
       "      <td>R. Lewandowski</td>\n",
       "      <td>ST</td>\n",
       "      <td>92</td>\n",
       "      <td>92</td>\n",
       "      <td>119500000.0</td>\n",
       "      <td>270000.0</td>\n",
       "      <td>32</td>\n",
       "      <td>1988-08-21</td>\n",
       "      <td>185</td>\n",
       "      <td>...</td>\n",
       "      <td>90</td>\n",
       "      <td>88</td>\n",
       "      <td>35</td>\n",
       "      <td>42</td>\n",
       "      <td>19</td>\n",
       "      <td>15</td>\n",
       "      <td>6</td>\n",
       "      <td>12</td>\n",
       "      <td>8</td>\n",
       "      <td>10</td>\n",
       "    </tr>\n",
       "    <tr>\n",
       "      <th>2</th>\n",
       "      <td>20801</td>\n",
       "      <td>Cristiano Ronaldo</td>\n",
       "      <td>ST, LW</td>\n",
       "      <td>91</td>\n",
       "      <td>91</td>\n",
       "      <td>45000000.0</td>\n",
       "      <td>270000.0</td>\n",
       "      <td>36</td>\n",
       "      <td>1985-02-05</td>\n",
       "      <td>187</td>\n",
       "      <td>...</td>\n",
       "      <td>88</td>\n",
       "      <td>95</td>\n",
       "      <td>24</td>\n",
       "      <td>32</td>\n",
       "      <td>24</td>\n",
       "      <td>7</td>\n",
       "      <td>11</td>\n",
       "      <td>15</td>\n",
       "      <td>14</td>\n",
       "      <td>11</td>\n",
       "    </tr>\n",
       "    <tr>\n",
       "      <th>3</th>\n",
       "      <td>190871</td>\n",
       "      <td>Neymar Jr</td>\n",
       "      <td>LW, CAM</td>\n",
       "      <td>91</td>\n",
       "      <td>91</td>\n",
       "      <td>129000000.0</td>\n",
       "      <td>270000.0</td>\n",
       "      <td>29</td>\n",
       "      <td>1992-02-05</td>\n",
       "      <td>175</td>\n",
       "      <td>...</td>\n",
       "      <td>93</td>\n",
       "      <td>93</td>\n",
       "      <td>35</td>\n",
       "      <td>32</td>\n",
       "      <td>29</td>\n",
       "      <td>9</td>\n",
       "      <td>9</td>\n",
       "      <td>15</td>\n",
       "      <td>15</td>\n",
       "      <td>11</td>\n",
       "    </tr>\n",
       "    <tr>\n",
       "      <th>4</th>\n",
       "      <td>192985</td>\n",
       "      <td>K. De Bruyne</td>\n",
       "      <td>CM, CAM</td>\n",
       "      <td>91</td>\n",
       "      <td>91</td>\n",
       "      <td>125500000.0</td>\n",
       "      <td>350000.0</td>\n",
       "      <td>30</td>\n",
       "      <td>1991-06-28</td>\n",
       "      <td>181</td>\n",
       "      <td>...</td>\n",
       "      <td>83</td>\n",
       "      <td>89</td>\n",
       "      <td>68</td>\n",
       "      <td>65</td>\n",
       "      <td>53</td>\n",
       "      <td>15</td>\n",
       "      <td>13</td>\n",
       "      <td>5</td>\n",
       "      <td>10</td>\n",
       "      <td>13</td>\n",
       "    </tr>\n",
       "  </tbody>\n",
       "</table>\n",
       "<p>5 rows × 75 columns</p>\n",
       "</div>"
      ],
      "text/plain": [
       "   sofifa_id         short_name player_positions  overall  potential  \\\n",
       "0     158023           L. Messi       RW, ST, CF       93         93   \n",
       "1     188545     R. Lewandowski               ST       92         92   \n",
       "2      20801  Cristiano Ronaldo           ST, LW       91         91   \n",
       "3     190871          Neymar Jr          LW, CAM       91         91   \n",
       "4     192985       K. De Bruyne          CM, CAM       91         91   \n",
       "\n",
       "     value_eur  wage_eur  age         dob  height_cm  ...  \\\n",
       "0   78000000.0  320000.0   34  1987-06-24        170  ...   \n",
       "1  119500000.0  270000.0   32  1988-08-21        185  ...   \n",
       "2   45000000.0  270000.0   36  1985-02-05        187  ...   \n",
       "3  129000000.0  270000.0   29  1992-02-05        175  ...   \n",
       "4  125500000.0  350000.0   30  1991-06-28        181  ...   \n",
       "\n",
       "   mentality_penalties  mentality_composure defending_marking_awareness  \\\n",
       "0                   75                   96                          20   \n",
       "1                   90                   88                          35   \n",
       "2                   88                   95                          24   \n",
       "3                   93                   93                          35   \n",
       "4                   83                   89                          68   \n",
       "\n",
       "  defending_standing_tackle  defending_sliding_tackle goalkeeping_diving  \\\n",
       "0                        35                        24                  6   \n",
       "1                        42                        19                 15   \n",
       "2                        32                        24                  7   \n",
       "3                        32                        29                  9   \n",
       "4                        65                        53                 15   \n",
       "\n",
       "   goalkeeping_handling goalkeeping_kicking goalkeeping_positioning  \\\n",
       "0                    11                  15                      14   \n",
       "1                     6                  12                       8   \n",
       "2                    11                  15                      14   \n",
       "3                     9                  15                      15   \n",
       "4                    13                   5                      10   \n",
       "\n",
       "   goalkeeping_reflexes  \n",
       "0                     8  \n",
       "1                    10  \n",
       "2                    11  \n",
       "3                    11  \n",
       "4                    13  \n",
       "\n",
       "[5 rows x 75 columns]"
      ]
     },
     "execution_count": 7,
     "metadata": {},
     "output_type": "execute_result"
    }
   ],
   "source": [
    "# To view the first five rows of your data\n",
    "# Returns maximum of 5 records\n",
    "df.head()"
   ]
  },
  {
   "cell_type": "markdown",
   "id": "23d5c44d-9499-459e-b8c8-53697ee51558",
   "metadata": {},
   "source": [
    "Data analysis between Hieght and Age"
   ]
  },
  {
   "cell_type": "markdown",
   "id": "95bea049-4d2e-446a-b174-f97961e3ba0f",
   "metadata": {},
   "source": [
    "Measures of central tendency describe the typical or average value of a set of data.\n",
    "\n",
    "We will calculate: Mean, Median, and Mode."
   ]
  },
  {
   "cell_type": "markdown",
   "id": "8cd404b6-b60f-49e8-bd99-b0cd7d3d5a6c",
   "metadata": {},
   "source": [
    "Mean"
   ]
  },
  {
   "cell_type": "code",
   "execution_count": 62,
   "id": "11ee1b9e-896a-4d4a-b747-d033a7191301",
   "metadata": {},
   "outputs": [
    {
     "name": "stdout",
     "output_type": "stream",
     "text": [
      "Mean age for players who were part fifa 2021 teams is 25\n"
     ]
    }
   ],
   "source": [
    "# Calculate mean age for players who played in fifa 2021 teams\n",
    "# Round off the mean to get actual age.\n",
    "mean_age = np.mean(df['age'])\n",
    "rounded_mean_age = round(mean_age)\n",
    "\n",
    "print(\"Mean age for players who were part fifa 2021 teams is\", rounded_mean_age)"
   ]
  },
  {
   "cell_type": "markdown",
   "id": "036be508-f25f-4d79-a6ee-5e56fbe2c7ec",
   "metadata": {},
   "source": [
    "Median"
   ]
  },
  {
   "cell_type": "code",
   "execution_count": 63,
   "id": "ccde2bc5-99f5-4d67-b022-ab5be89f7d26",
   "metadata": {},
   "outputs": [
    {
     "name": "stdout",
     "output_type": "stream",
     "text": [
      "Median age: 25\n"
     ]
    }
   ],
   "source": [
    "# calculate the median age\n",
    "median_age = df['age'].median()\n",
    "rounded_median_age = round(median_age)\n",
    "# print the result\n",
    "print('Median age:', rounded_median_age)"
   ]
  },
  {
   "cell_type": "markdown",
   "id": "20a46ac6-c86b-4526-8ded-48304fe45f5a",
   "metadata": {},
   "source": [
    "Mode"
   ]
  },
  {
   "cell_type": "code",
   "execution_count": 64,
   "id": "de42b1e1-444a-4c0c-88d3-5e50d1a5559a",
   "metadata": {},
   "outputs": [
    {
     "name": "stdout",
     "output_type": "stream",
     "text": [
      "Mode age: 0    21\n",
      "Name: age, dtype: int64\n"
     ]
    }
   ],
   "source": [
    "# calculate the mode age\n",
    "mode_age = df['age'].mode()\n",
    "\n",
    "# print the result\n",
    "print('Mode age:', mode_age)"
   ]
  },
  {
   "cell_type": "markdown",
   "id": "14b7912a-ab48-49e9-88c1-bfcac47d2c9e",
   "metadata": {},
   "source": [
    "Section Conclsion\n",
    "\n",
    "The mean age of the players is 25. This means that if I were to add up all the ages and divide by the total number of observations, I would get an average age of 25. This statistic is sensitive to extreme values, meaning that if there are a few very young or very old individuals in the players population, the mean age may be skewed.\n",
    "\n",
    "The median age of the players is also 25. This means if I were to line up all the ages from smallest to largest, the age in the middle of the list would be 25. This statistic is less sensitive to extreme values than the mean, and it provides a better representation of the typical age in the players population.\n",
    "\n",
    "The mode of the age distribution is 0 to 21. This means that the most common or frequent age range in the players population is between 0 and 21 and it is not relalistic. It is important to note that the mode may not be a good representation of the typical age if the age distribution is not strongly skewed and has multiple peaks.\n",
    "\n",
    "Overall, the statistics suggest that the players population has a relatively young age distribution of players, with the most common ages being between 0 and 21 (not realistic), and a median and mean age of 25. This information is useful for understanding the age group of the players population who were part of the fifa 2021 teams. However, it is important to keep in our mind that the these statistics alone may not provide a complete picture of the age distribution and that further analysis and visualization may be necessary to fully understand the data."
   ]
  },
  {
   "cell_type": "markdown",
   "id": "b3638309-e78d-4fb5-afc0-00e411bcf071",
   "metadata": {},
   "source": [
    "Measures of variability describe how spread out or dispersed the data is.\n",
    "We will calculate: Range, Variance, and Standard deviation."
   ]
  },
  {
   "cell_type": "markdown",
   "id": "f9fabf2c-12f6-42c3-8d31-28e82f41194d",
   "metadata": {},
   "source": [
    "Range"
   ]
  },
  {
   "cell_type": "code",
   "execution_count": 65,
   "id": "6896f1aa-4350-4339-acd1-e4b9be0ac951",
   "metadata": {},
   "outputs": [
    {
     "name": "stdout",
     "output_type": "stream",
     "text": [
      "Age range: 38\n"
     ]
    }
   ],
   "source": [
    "# calculate the range of age\n",
    "age_range = df['age'].max() - df['age'].min()\n",
    "\n",
    "# print the result\n",
    "print('Age range:', age_range)"
   ]
  },
  {
   "cell_type": "markdown",
   "id": "3c82aee8-44d4-492d-a3b2-62ac2ece747c",
   "metadata": {},
   "source": [
    "Variance"
   ]
  },
  {
   "cell_type": "code",
   "execution_count": 66,
   "id": "fe46513e-4b6c-440c-9617-b31997eab923",
   "metadata": {},
   "outputs": [
    {
     "name": "stdout",
     "output_type": "stream",
     "text": [
      "Age variance: 22.545737961734247\n"
     ]
    }
   ],
   "source": [
    "# calculate the variance of age\n",
    "age_variance = df['age'].var(ddof=1)\n",
    "\n",
    "# print the result\n",
    "print('Age variance:', age_variance)"
   ]
  },
  {
   "cell_type": "markdown",
   "id": "2aab6e89-236d-4d89-b755-0159b91c97da",
   "metadata": {},
   "source": [
    "Standard deviation"
   ]
  },
  {
   "cell_type": "code",
   "execution_count": 67,
   "id": "bc0f896d-19c2-4ebe-a58b-3cbca3eab42e",
   "metadata": {},
   "outputs": [
    {
     "name": "stdout",
     "output_type": "stream",
     "text": [
      "Age standard deviation: 4.748235247092781\n"
     ]
    }
   ],
   "source": [
    "# calculate the standard deviation of age\n",
    "age_std = np.sqrt(df['age'].var(ddof=1))\n",
    "\n",
    "# print the result\n",
    "print('Age standard deviation:', age_std) "
   ]
  },
  {
   "cell_type": "markdown",
   "id": "a1599bf8-3498-4c34-9247-cb8312a0b0ed",
   "metadata": {},
   "source": [
    "Section Conclusion\n",
    "\n",
    "The range of ages is 38. This means that the difference between the oldest and youngest player is 38 years. We can use range to measure the spread of the data, but it is sensitive to extreme values and may not provide a good representation of the typical range of ages.\n",
    "\n",
    "The variance of ages is 22.545737961734247. This is a measure of how spread out the ages are from the mean age. A high variance indicates that the ages are more spread out and that there is a greater range of ages in the players data. However, variance is also sensitive to extreme values and can be difficult to interpret.\n",
    "\n",
    "The standard deviation of ages in is 4.748235247092781. This is a commonly used measure of the spread of the data from the mean age. A low standard deviation indicates that the ages are relatively close to the mean age, while a high standard deviation indicates that the ages are more spread out. The standard deviation can be useful to identifying outliers or extreme values in the data.\n",
    "\n",
    "Overall, the descriptive statistics suggest that the ages of soccer players have a moderate spread, with a range of 38 years, a variance of 22.545737961734247, and a standard deviation of 4.748235247092781. These statistics can be useful for understanding the distribution of age, identifying potential outliers or extreme values, and comparing the age distribution of soccer players to other populations. However, it is important to keep in mind that the descriptive statistics alone may not provide us with a complete picture of the age distribution and that further analysis and visualization may be necessary to fully understand the data."
   ]
  },
  {
   "cell_type": "markdown",
   "id": "aceda373-9cab-45bf-840a-19c9a3b5cf1b",
   "metadata": {},
   "source": [
    "Other measures"
   ]
  },
  {
   "cell_type": "markdown",
   "id": "f33716bd-bcb7-4232-a7fa-af8a1b6a507e",
   "metadata": {},
   "source": [
    "Sum"
   ]
  },
  {
   "cell_type": "code",
   "execution_count": 38,
   "id": "73faabe3-e48d-4e72-ab1e-8ef6050d33cc",
   "metadata": {},
   "outputs": [
    {
     "name": "stdout",
     "output_type": "stream",
     "text": [
      "Sum of players: 485031\n"
     ]
    }
   ],
   "source": [
    "data_sum = sum(df['age'])\n",
    "print('Sum of players:', data_sum)"
   ]
  },
  {
   "cell_type": "markdown",
   "id": "06e12757-8ea9-4836-bff3-d2fde90dc60e",
   "metadata": {},
   "source": [
    "Count"
   ]
  },
  {
   "cell_type": "code",
   "execution_count": 39,
   "id": "0002d785-2af4-4697-8c11-909a1d1d2377",
   "metadata": {},
   "outputs": [
    {
     "name": "stdout",
     "output_type": "stream",
     "text": [
      "Count:  19239\n"
     ]
    }
   ],
   "source": [
    "# calculate count\n",
    "count = np.count_nonzero(df['age'])\n",
    "\n",
    "print(\"Count: \", count)"
   ]
  },
  {
   "cell_type": "markdown",
   "id": "d0c3e243-047f-4f39-bcb0-5dd4e6576002",
   "metadata": {},
   "source": [
    "Minimum"
   ]
  },
  {
   "cell_type": "code",
   "execution_count": 40,
   "id": "7b99c9fe-aa44-4696-a406-f473bdaa4994",
   "metadata": {},
   "outputs": [
    {
     "name": "stdout",
     "output_type": "stream",
     "text": [
      "Minimum: 16\n"
     ]
    }
   ],
   "source": [
    "data_min = min(df['age'])\n",
    "\n",
    "print('Minimum:', data_min)"
   ]
  },
  {
   "cell_type": "markdown",
   "id": "51a6b23e-428c-493b-99ac-668823a6a108",
   "metadata": {},
   "source": [
    "Maximum"
   ]
  },
  {
   "cell_type": "code",
   "execution_count": 42,
   "id": "2060a69d-3fdb-468d-9cd7-89d550635d59",
   "metadata": {},
   "outputs": [
    {
     "name": "stdout",
     "output_type": "stream",
     "text": [
      "Maximum: 54\n"
     ]
    }
   ],
   "source": [
    "data_max = max(df['age'])\n",
    "\n",
    "print('Maximum:', data_max)"
   ]
  },
  {
   "cell_type": "markdown",
   "id": "9739295a-2383-4227-a74c-b52ffb48577c",
   "metadata": {},
   "source": [
    "Confidence level"
   ]
  },
  {
   "cell_type": "code",
   "execution_count": 43,
   "id": "94c57254-95e1-4717-aaf0-8a14906b5c86",
   "metadata": {},
   "outputs": [],
   "source": [
    "from scipy.stats import t"
   ]
  },
  {
   "cell_type": "code",
   "execution_count": 70,
   "id": "940b9562-584f-4830-b119-9a292f097884",
   "metadata": {},
   "outputs": [
    {
     "name": "stdout",
     "output_type": "stream",
     "text": [
      "95% confidence interval: (25.14372271450454, 25.27792082206181)\n"
     ]
    }
   ],
   "source": [
    "n = len(data)\n",
    "confidence_level = 0.95\n",
    "\n",
    "# Calculate the t-value for the desired confidence level\n",
    "t_value = t.ppf((1 + confidence_level) / 2, n - 1)\n",
    "\n",
    "# Calculate the confidence interval\n",
    "lower_ci = mean_age - t_value * (age_std / np.sqrt(n))\n",
    "upper_ci = mean_age + t_value * (age_std / np.sqrt(n))\n",
    "\n",
    "print('95% confidence interval:', (lower_ci, upper_ci))"
   ]
  },
  {
   "cell_type": "markdown",
   "id": "9d70f299-f8d6-48e1-a995-6ea68966b121",
   "metadata": {},
   "source": [
    "Section Conclusion\n",
    "\n",
    "Sum of players: 485031\n",
    "Count: 19239 (number of players found in the document)\n",
    "Minimum age: 16\n",
    "Maximum age: 54\n",
    "95% confidence interval: (24.932900946221366, 25.067099053778634)\n",
    "\n",
    "From these statistics, we can make the following conclusions:\n",
    "\n",
    "The data size is relatively large, with over 19,000 players included in the analysis.\n",
    "The age range in the data is quite broad, spanning from 16 to 54 years old.\n",
    "The minimum age of 16 suggests that there may be some younger players included in the data, while the maximum age of 54 suggests that there may be some older players as well.\n",
    "The 95% confidence interval for the mean age (24.93 to 25.07) suggests that we are fairly certain about the average age of soccer players in the players population. Specifically, we can be 95% confident that the true players population mean age falls within this range. Note that this interval is quite narrow, which suggests that the data mean is quite precise and the age distribution may be relatively homogeneous.\n",
    "\n",
    "The mean age of soccer players is likely close to 25 years old, based on the midpoint of the confidence interval.\n",
    "The standard error of the mean (i.e., the standard deviation of the sampling distribution of the mean) can be estimated as (25.067 - 24.933) / (2 * 1.96), or approximately 0.034 years. This suggests that the data mean is relatively precise, and that the true population mean is likely within 0.034 years of the data mean with 95% confidence.\n",
    "\n",
    "The data includes players as young as 16 and as old as 54, indicating that there is some variation in age across the population of soccer players. However, without additional information about the distribution of ages (e.g., whether it is skewed or symmetric), it's difficult to say more about the shape of the distribution.\n",
    "\n",
    "The fact that the data size is quite large (19,239 players) suggests that the estimate of the mean age is likely to be quite accurate. This is because larger data tend to produce estimates that are closer to the true population value, due to the central limit theorem.\n",
    "However, it's important to note that the data may not be representative of the entire population of soccer players.\n",
    "\n",
    "Overall, these statistics provide a useful snapshot of the age distribution of soccer players in our data. However, it's important to keep in mind that this data may not be representative of the entire population of soccer players, and there are other factors such as skill level, nationality, or position that influence the age distribution as well which we haven't looked at.\n"
   ]
  },
  {
   "cell_type": "markdown",
   "id": "abb4dd6f-b16a-44b3-b814-2221719eba62",
   "metadata": {},
   "source": [
    "Linear regression, pleayers positions and their age"
   ]
  },
  {
   "cell_type": "code",
   "execution_count": 49,
   "id": "ab0788ed-90cc-4b10-ac63-e22604135416",
   "metadata": {},
   "outputs": [],
   "source": [
    "import matplotlib.pyplot as plt"
   ]
  },
  {
   "cell_type": "code",
   "execution_count": 59,
   "id": "b407de55-c520-4cd3-9228-7d4178e508ab",
   "metadata": {},
   "outputs": [
    {
     "data": {
      "image/png": "[encoded data removed]",
      "text/plain": [
       "<Figure size 640x480 with 1 Axes>"
      ]
     },
     "metadata": {},
     "output_type": "display_data"
    }
   ],
   "source": [
    "plt.scatter(df['age'], df['height_cm'])\n",
    "plt.xlabel('Age')\n",
    "plt.ylabel('Hieght')\n",
    "plt.title('Player height vs Age')\n",
    "plt.show()"
   ]
  },
  {
   "cell_type": "code",
   "execution_count": 57,
   "id": "ba0b0641-6e3e-4f94-ae7e-824183fb53e2",
   "metadata": {},
   "outputs": [],
   "source": [
    "# Please make sure you this install in your system using pip install scikit-learn\n",
    "# <path-to-python-executable> -m pip install scikit-learn\n",
    "# To find you path\n",
    "#import sys\n",
    "#print(sys.executable)\n",
    "\n",
    "from sklearn.linear_model import LinearRegression"
   ]
  },
  {
   "cell_type": "code",
   "execution_count": 60,
   "id": "0a2fadf9-22cf-4f04-83c7-23cec3242231",
   "metadata": {},
   "outputs": [
    {
     "name": "stdout",
     "output_type": "stream",
     "text": [
      "Intercept: 178.27485774205243\n",
      "Coefficient: [0.11998205]\n"
     ]
    }
   ],
   "source": [
    "X = df[['age']]\n",
    "y = df['height_cm']\n",
    "\n",
    "model = LinearRegression()\n",
    "model.fit(X, y)\n",
    "\n",
    "print('Intercept:', model.intercept_)\n",
    "print('Coefficient:', model.coef_)"
   ]
  },
  {
   "cell_type": "code",
   "execution_count": 61,
   "id": "5d436037-af54-41ed-8821-11fc9131d12d",
   "metadata": {},
   "outputs": [
    {
     "data": {
      "image/png": "[encoded data removed]",
      "text/plain": [
       "<Figure size 640x480 with 1 Axes>"
      ]
     },
     "metadata": {},
     "output_type": "display_data"
    }
   ],
   "source": [
    "plt.scatter(df['age'], df['height_cm'])\n",
    "plt.plot(X, model.predict(X), color='red')\n",
    "plt.xlabel('Age')\n",
    "plt.ylabel('Hieght')\n",
    "plt.title('Player hieght vs Age')\n",
    "plt.show()"
   ]
  },
  {
   "cell_type": "markdown",
   "id": "fd9bb6e5-e1a6-4ed7-9279-0e280b4e8134",
   "metadata": {},
   "source": [
    "Section Conclution\n",
    "\n",
    "The intercept and coefficient represent the predicted value of Hight when Age is equal to 0, and the change in the predicted value of Hight for each one-unit increase in Age, respectively.\n",
    "\n",
    "The intercept value of 178.27485774205243 means that when Age is 0, the predicted value of Hight is approximately 178.27. However, since Age cannot be negative, this intercept value may not have any practical interpretation in our analysis.\n",
    "\n",
    "The coefficient value of 0.11998205 means that for each one-unit increase in Age, the predicted value of Hight will increase by approximately 0.12. This suggests a positive linear relationship between Age and Hight, where older individuals tend to be taller on average.\n",
    "\n",
    "As with any linear regression analysis, it is important for us to check the assumptions of the model and the overall fit of the regression line to the data to ensure the validity and reliability of the results.\n",
    "\n",
    "It is not possible for a person to have a height of 170 when their age is 0. In fact, this is a limitation of the linear regression model, as it assumes that the relationship between age and height is linear and constant across all ages. In reality, this relationship may not be perfectly linear and there may be other factors that affect height, such as genetics, nutrition, and environment.\n",
    "\n",
    "The intercept value of 178.27485774205243 in our model represents the predicted height when age is equal to 0, which is not a meaningful or realistic value in this case. Therefore, in practical terms, the interpretation of the intercept is limited and the focus should be on the coefficient value of 0.11998205, which represents the increase in predicted height for each one-unit increase in age.\n",
    "\n",
    "In summary, while the intercept value in my linear regression model may not have a meaningful interpretation in this case, the coefficient value can still provide useful information about the relationship between age and height, with the understanding that this relationship may not be perfectly linear or constant across all ages.\n"
   ]
  },
  {
   "cell_type": "markdown",
   "id": "2bec20de-6c63-4f44-999f-e1e8b34f05d7",
   "metadata": {},
   "source": [
    "Histogram"
   ]
  },
  {
   "cell_type": "code",
   "execution_count": 68,
   "id": "63b89863-87d4-4873-9cf0-194a8aaa38f7",
   "metadata": {},
   "outputs": [],
   "source": [
    "import matplotlib.pyplot as plt"
   ]
  },
  {
   "cell_type": "code",
   "execution_count": 69,
   "id": "46b00e1d-2044-42b8-bc25-3ea57af48329",
   "metadata": {},
   "outputs": [
    {
     "data": {
      "image/png": "[encoded data removed]",
      "text/plain": [
       "<Figure size 640x480 with 1 Axes>"
      ]
     },
     "metadata": {},
     "output_type": "display_data"
    }
   ],
   "source": [
    "# Extract the age data from the DataFrame\n",
    "soccer_player_ages = df['age']\n",
    "\n",
    "# Create a histogram of the age distribution\n",
    "plt.hist(soccer_player_ages, bins=20)\n",
    "plt.xlabel('age')\n",
    "plt.ylabel('Frequency')\n",
    "plt.title('Histogram of Soccer Player Ages')\n",
    "plt.show()"
   ]
  },
  {
   "cell_type": "markdown",
   "id": "3f83287c-e7e9-42d2-8ad1-2bf64d7c6990",
   "metadata": {},
   "source": [
    "Section Conclusion\n",
    "\n",
    "The majority of soccer players in the data appear to be in their mid-to-late 20s, with a peak around age 27.\n",
    "The distribution is roughly symmetric, with no obvious skewness to the left or right.\n",
    "It appear to be fewer soccer players in the data who are older than age 35."
   ]
  }
 ],
 "metadata": {
  "kernelspec": {
   "display_name": "Python 3 (ipykernel)",
   "language": "python",
   "name": "python3"
  },
  "language_info": {
   "codemirror_mode": {
    "name": "ipython",
    "version": 3
   },
   "file_extension": ".py",
   "mimetype": "text/x-python",
   "name": "python",
   "nbconvert_exporter": "python",
   "pygments_lexer": "ipython3",
   "version": "3.8.15"
  }
 },
 "nbformat": 4,
 "nbformat_minor": 5
}
